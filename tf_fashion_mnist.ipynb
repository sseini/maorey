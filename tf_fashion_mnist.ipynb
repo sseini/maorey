{
 "cells": [
  {
   "cell_type": "code",
   "execution_count": 21,
   "metadata": {},
   "outputs": [],
   "source": [
    "import tensorflow as tf"
   ]
  },
  {
   "cell_type": "code",
   "execution_count": 32,
   "metadata": {},
   "outputs": [],
   "source": [
    "import matplotlib.pyplot as plt"
   ]
  },
  {
   "cell_type": "code",
   "execution_count": 22,
   "metadata": {},
   "outputs": [
    {
     "name": "stdout",
     "output_type": "stream",
     "text": [
      "2.3.1\n",
      "2.4.0\n"
     ]
    }
   ],
   "source": [
    "print(tf.__version__)\n",
    "print(tf.keras.__version__)"
   ]
  },
  {
   "cell_type": "code",
   "execution_count": 23,
   "metadata": {},
   "outputs": [
    {
     "data": {
      "text/plain": [
       "False"
      ]
     },
     "execution_count": 23,
     "metadata": {},
     "output_type": "execute_result"
    }
   ],
   "source": [
    "tf.test.is_gpu_available()"
   ]
  },
  {
   "cell_type": "code",
   "execution_count": 24,
   "metadata": {},
   "outputs": [],
   "source": [
    "fashion_mnist = tf.keras.datasets.fashion_mnist"
   ]
  },
  {
   "cell_type": "code",
   "execution_count": 25,
   "metadata": {},
   "outputs": [],
   "source": [
    "(X_train_full, y_train_full), (X_test, y_test)= fashion_mnist.load_data()"
   ]
  },
  {
   "cell_type": "code",
   "execution_count": 26,
   "metadata": {},
   "outputs": [
    {
     "name": "stdout",
     "output_type": "stream",
     "text": [
      "X_train_full.shape:  (60000, 28, 28)\n",
      "y_train_full.shape:  (60000,)\n",
      "X_test.shape:  (10000, 28, 28)\n",
      "y_test.shape:  (10000,)\n"
     ]
    }
   ],
   "source": [
    "print(\"X_train_full.shape: \", X_train_full.shape)\n",
    "print(\"y_train_full.shape: \", y_train_full.shape)\n",
    "print(\"X_test.shape: \", X_test.shape)\n",
    "print(\"y_test.shape: \", y_test.shape)"
   ]
  },
  {
   "cell_type": "code",
   "execution_count": 103,
   "metadata": {},
   "outputs": [],
   "source": [
    "X_valid, X_train = X_train_full[:5000]/255.0, X_train_full[5000:]/255.0\n",
    "y_valid, y_train = y_train_full[:5000], y_train_full[5000:]"
   ]
  },
  {
   "cell_type": "code",
   "execution_count": 104,
   "metadata": {},
   "outputs": [
    {
     "data": {
      "text/plain": [
       "[0, 1, 2, 3, 4, 5, 6, 7, 8, 9]"
      ]
     },
     "execution_count": 104,
     "metadata": {},
     "output_type": "execute_result"
    }
   ],
   "source": [
    "class_names=list(set(y_train_full))\n",
    "class_names"
   ]
  },
  {
   "cell_type": "code",
   "execution_count": 105,
   "metadata": {},
   "outputs": [],
   "source": [
    "classes=[\"T-short/top\", \"Trouser\", \"Pullover\", \"Dress\", \"Coat\", \"Sandal\", \"Shirt\", \"Sneaker\", \"Bag\", \"Ankle boot\"] "
   ]
  },
  {
   "cell_type": "code",
   "execution_count": 106,
   "metadata": {},
   "outputs": [
    {
     "data": {
      "image/png": "[encoded data removed]",
      "text/plain": [
       "<Figure size 432x288 with 1 Axes>"
      ]
     },
     "metadata": {
      "needs_background": "light"
     },
     "output_type": "display_data"
    },
    {
     "data": {
      "text/plain": [
       "'Coat'"
      ]
     },
     "execution_count": 106,
     "metadata": {},
     "output_type": "execute_result"
    }
   ],
   "source": [
    "#classes = list(set(fashion_mnist.target))\n",
    "i=9\n",
    "plt.imshow(X_train[i])\n",
    "plt.show()\n",
    "classes[y_train[i]]"
   ]
  },
  {
   "cell_type": "code",
   "execution_count": 107,
   "metadata": {},
   "outputs": [],
   "source": [
    "model = tf.keras.models.Sequential([\n",
    "    tf.keras.layers.Flatten(input_shape=[28,28]),\n",
    "    tf.keras.layers.Dense(units=300, activation=\"relu\"),\n",
    "    tf.keras.layers.Dense(units=100, activation=\"relu\"),\n",
    "    tf.keras.layers.Dense(units=10, activation=\"softmax\")    \n",
    "])"
   ]
  },
  {
   "cell_type": "code",
   "execution_count": 108,
   "metadata": {},
   "outputs": [
    {
     "name": "stdout",
     "output_type": "stream",
     "text": [
      "Model: \"sequential_1\"\n",
      "_________________________________________________________________\n",
      "Layer (type)                 Output Shape              Param #   \n",
      "=================================================================\n",
      "flatten_1 (Flatten)          (None, 784)               0         \n",
      "_________________________________________________________________\n",
      "dense_3 (Dense)              (None, 300)               235500    \n",
      "_________________________________________________________________\n",
      "dense_4 (Dense)              (None, 100)               30100     \n",
      "_________________________________________________________________\n",
      "dense_5 (Dense)              (None, 10)                1010      \n",
      "=================================================================\n",
      "Total params: 266,610\n",
      "Trainable params: 266,610\n",
      "Non-trainable params: 0\n",
      "_________________________________________________________________\n"
     ]
    }
   ],
   "source": [
    "model.summary()"
   ]
  },
  {
   "cell_type": "code",
   "execution_count": 109,
   "metadata": {},
   "outputs": [
    {
     "data": {
      "text/plain": [
       "[<tensorflow.python.keras.layers.core.Flatten at 0x7fcef46c6f10>,\n",
       " <tensorflow.python.keras.layers.core.Dense at 0x7fcef46c6430>,\n",
       " <tensorflow.python.keras.layers.core.Dense at 0x7fcef4ad7400>,\n",
       " <tensorflow.python.keras.layers.core.Dense at 0x7fcef446f070>]"
      ]
     },
     "execution_count": 109,
     "metadata": {},
     "output_type": "execute_result"
    }
   ],
   "source": [
    "model.layers"
   ]
  },
  {
   "cell_type": "code",
   "execution_count": 110,
   "metadata": {},
   "outputs": [],
   "source": [
    "hidden1=model.layers[0]"
   ]
  },
  {
   "cell_type": "code",
   "execution_count": 111,
   "metadata": {},
   "outputs": [
    {
     "name": "stdout",
     "output_type": "stream",
     "text": [
      "0 flatten_1\n",
      "1 dense_3\n",
      "2 dense_4\n",
      "3 dense_5\n"
     ]
    }
   ],
   "source": [
    "for i, layer in enumerate(model.layers):\n",
    "    print(\"{} {}\".format(i, model.layers[i].name)) "
   ]
  },
  {
   "cell_type": "code",
   "execution_count": 112,
   "metadata": {},
   "outputs": [],
   "source": [
    "hidden1 = model.layers[1]"
   ]
  },
  {
   "cell_type": "code",
   "execution_count": 114,
   "metadata": {},
   "outputs": [],
   "source": [
    "#model.get_layer('dense') is hidden1\n"
   ]
  },
  {
   "cell_type": "code",
   "execution_count": 115,
   "metadata": {},
   "outputs": [],
   "source": [
    "weights, biases = hidden1.weights "
   ]
  },
  {
   "cell_type": "code",
   "execution_count": 116,
   "metadata": {},
   "outputs": [
    {
     "data": {
      "text/plain": [
       "<tf.Variable 'dense_3/kernel:0' shape=(784, 300) dtype=float32, numpy=\n",
       "array([[ 0.01892646,  0.01864656, -0.03602036, ...,  0.04582755,\n",
       "        -0.01670528, -0.0722525 ],\n",
       "       [-0.00420896, -0.0532738 , -0.01371464, ...,  0.00780462,\n",
       "         0.06376866, -0.02828711],\n",
       "       [-0.03010641,  0.02356788, -0.04034908, ..., -0.04123152,\n",
       "        -0.02991709,  0.05629347],\n",
       "       ...,\n",
       "       [-0.00542358, -0.05504116, -0.05181821, ..., -0.02548859,\n",
       "         0.06682433, -0.03399598],\n",
       "       [-0.02956246,  0.05544956, -0.05401129, ...,  0.02394639,\n",
       "        -0.02799995,  0.008151  ],\n",
       "       [-0.04163796,  0.04194717, -0.05393902, ...,  0.03392109,\n",
       "        -0.07177073,  0.05369541]], dtype=float32)>"
      ]
     },
     "execution_count": 116,
     "metadata": {},
     "output_type": "execute_result"
    }
   ],
   "source": [
    "weights"
   ]
  },
  {
   "cell_type": "code",
   "execution_count": 117,
   "metadata": {},
   "outputs": [
    {
     "data": {
      "text/plain": [
       "<tf.Variable 'dense_3/bias:0' shape=(300,) dtype=float32, numpy=\n",
       "array([0., 0., 0., 0., 0., 0., 0., 0., 0., 0., 0., 0., 0., 0., 0., 0., 0.,\n",
       "       0., 0., 0., 0., 0., 0., 0., 0., 0., 0., 0., 0., 0., 0., 0., 0., 0.,\n",
       "       0., 0., 0., 0., 0., 0., 0., 0., 0., 0., 0., 0., 0., 0., 0., 0., 0.,\n",
       "       0., 0., 0., 0., 0., 0., 0., 0., 0., 0., 0., 0., 0., 0., 0., 0., 0.,\n",
       "       0., 0., 0., 0., 0., 0., 0., 0., 0., 0., 0., 0., 0., 0., 0., 0., 0.,\n",
       "       0., 0., 0., 0., 0., 0., 0., 0., 0., 0., 0., 0., 0., 0., 0., 0., 0.,\n",
       "       0., 0., 0., 0., 0., 0., 0., 0., 0., 0., 0., 0., 0., 0., 0., 0., 0.,\n",
       "       0., 0., 0., 0., 0., 0., 0., 0., 0., 0., 0., 0., 0., 0., 0., 0., 0.,\n",
       "       0., 0., 0., 0., 0., 0., 0., 0., 0., 0., 0., 0., 0., 0., 0., 0., 0.,\n",
       "       0., 0., 0., 0., 0., 0., 0., 0., 0., 0., 0., 0., 0., 0., 0., 0., 0.,\n",
       "       0., 0., 0., 0., 0., 0., 0., 0., 0., 0., 0., 0., 0., 0., 0., 0., 0.,\n",
       "       0., 0., 0., 0., 0., 0., 0., 0., 0., 0., 0., 0., 0., 0., 0., 0., 0.,\n",
       "       0., 0., 0., 0., 0., 0., 0., 0., 0., 0., 0., 0., 0., 0., 0., 0., 0.,\n",
       "       0., 0., 0., 0., 0., 0., 0., 0., 0., 0., 0., 0., 0., 0., 0., 0., 0.,\n",
       "       0., 0., 0., 0., 0., 0., 0., 0., 0., 0., 0., 0., 0., 0., 0., 0., 0.,\n",
       "       0., 0., 0., 0., 0., 0., 0., 0., 0., 0., 0., 0., 0., 0., 0., 0., 0.,\n",
       "       0., 0., 0., 0., 0., 0., 0., 0., 0., 0., 0., 0., 0., 0., 0., 0., 0.,\n",
       "       0., 0., 0., 0., 0., 0., 0., 0., 0., 0., 0.], dtype=float32)>"
      ]
     },
     "execution_count": 117,
     "metadata": {},
     "output_type": "execute_result"
    }
   ],
   "source": [
    "biases"
   ]
  },
  {
   "cell_type": "code",
   "execution_count": 118,
   "metadata": {},
   "outputs": [],
   "source": [
    "hidden2=model.layers[2]"
   ]
  },
  {
   "cell_type": "code",
   "execution_count": 119,
   "metadata": {},
   "outputs": [],
   "source": [
    "weights2, biases2 = hidden2.weights"
   ]
  },
  {
   "cell_type": "code",
   "execution_count": 120,
   "metadata": {},
   "outputs": [
    {
     "data": {
      "text/plain": [
       "<tf.Variable 'dense_4/kernel:0' shape=(300, 100) dtype=float32, numpy=\n",
       "array([[ 0.09584986, -0.04975961,  0.10267314, ..., -0.04760934,\n",
       "        -0.03126795,  0.08305544],\n",
       "       [-0.05525433, -0.01252107, -0.08863692, ...,  0.04186992,\n",
       "         0.00491206, -0.07647793],\n",
       "       [-0.01118198,  0.08815063,  0.02141408, ...,  0.00851154,\n",
       "        -0.10467778,  0.07597715],\n",
       "       ...,\n",
       "       [ 0.03737132, -0.01648532, -0.06646863, ..., -0.10455751,\n",
       "        -0.11460675, -0.00557595],\n",
       "       [ 0.07339325, -0.06817474, -0.06667951, ..., -0.03841624,\n",
       "        -0.04538452, -0.01058177],\n",
       "       [-0.08945347, -0.06351784, -0.05206257, ..., -0.03880385,\n",
       "         0.04876887, -0.04637501]], dtype=float32)>"
      ]
     },
     "execution_count": 120,
     "metadata": {},
     "output_type": "execute_result"
    }
   ],
   "source": [
    "weights2"
   ]
  },
  {
   "cell_type": "code",
   "execution_count": 121,
   "metadata": {},
   "outputs": [
    {
     "data": {
      "text/plain": [
       "<tf.Variable 'dense_4/bias:0' shape=(100,) dtype=float32, numpy=\n",
       "array([0., 0., 0., 0., 0., 0., 0., 0., 0., 0., 0., 0., 0., 0., 0., 0., 0.,\n",
       "       0., 0., 0., 0., 0., 0., 0., 0., 0., 0., 0., 0., 0., 0., 0., 0., 0.,\n",
       "       0., 0., 0., 0., 0., 0., 0., 0., 0., 0., 0., 0., 0., 0., 0., 0., 0.,\n",
       "       0., 0., 0., 0., 0., 0., 0., 0., 0., 0., 0., 0., 0., 0., 0., 0., 0.,\n",
       "       0., 0., 0., 0., 0., 0., 0., 0., 0., 0., 0., 0., 0., 0., 0., 0., 0.,\n",
       "       0., 0., 0., 0., 0., 0., 0., 0., 0., 0., 0., 0., 0., 0., 0.],\n",
       "      dtype=float32)>"
      ]
     },
     "execution_count": 121,
     "metadata": {},
     "output_type": "execute_result"
    }
   ],
   "source": [
    "biases2"
   ]
  },
  {
   "cell_type": "code",
   "execution_count": 122,
   "metadata": {},
   "outputs": [],
   "source": [
    "output=model.layers[3]"
   ]
  },
  {
   "cell_type": "code",
   "execution_count": 123,
   "metadata": {},
   "outputs": [],
   "source": [
    "weights3, biases3= output.weights"
   ]
  },
  {
   "cell_type": "code",
   "execution_count": 124,
   "metadata": {},
   "outputs": [
    {
     "data": {
      "text/plain": [
       "<tf.Variable 'dense_5/kernel:0' shape=(100, 10) dtype=float32, numpy=\n",
       "array([[-0.1866777 , -0.21613584, -0.19644332, -0.22912203,  0.20724285,\n",
       "         0.10453287,  0.04141492,  0.04843611, -0.17263567,  0.0519402 ],\n",
       "       [-0.09326899,  0.18160623, -0.04616955, -0.00618361,  0.09000638,\n",
       "         0.19281062, -0.08850674,  0.03007501, -0.10025315,  0.04454663],\n",
       "       [-0.03744236,  0.17726406, -0.22657722, -0.04384764, -0.21751855,\n",
       "        -0.18477464,  0.19060093,  0.20250064, -0.08121239,  0.12472308],\n",
       "       [ 0.10644823,  0.09758845, -0.1008646 ,  0.07671505,  0.05026585,\n",
       "         0.18437457, -0.21767981, -0.19823056,  0.11360365,  0.03725737],\n",
       "       [ 0.16482446, -0.07813503,  0.15454379,  0.11455917,  0.15375677,\n",
       "        -0.12872717,  0.20200098, -0.03513271,  0.02515039, -0.18968433],\n",
       "       [-0.15499303, -0.04941639,  0.1358997 ,  0.08119729,  0.10830709,\n",
       "        -0.12045301, -0.18310967,  0.14871633,  0.2026282 ,  0.11984876],\n",
       "       [-0.17168722, -0.19407418, -0.16614096, -0.05785081,  0.19171178,\n",
       "        -0.19865073, -0.1009749 , -0.02266972,  0.1644932 , -0.08119595],\n",
       "       [-0.04708424,  0.19764015,  0.06138882,  0.153308  , -0.22318715,\n",
       "         0.06003478,  0.15400833,  0.15057513, -0.03277203,  0.21520048],\n",
       "       [-0.04963212, -0.09932977,  0.13094845, -0.00213966,  0.14811265,\n",
       "        -0.151086  ,  0.00899112, -0.00566208, -0.06791689,  0.02406341],\n",
       "       [ 0.22627246,  0.22539657, -0.11050621,  0.12785065, -0.04167485,\n",
       "        -0.10019714,  0.05930567, -0.22241189, -0.15123479, -0.02633296],\n",
       "       [ 0.19482544,  0.12788558, -0.13953465,  0.07758817, -0.04530106,\n",
       "        -0.14507964,  0.0651381 , -0.03577183, -0.15529433,  0.15145451],\n",
       "       [ 0.21971947,  0.02090269,  0.16537717, -0.14363584, -0.03467242,\n",
       "         0.21783516, -0.08609396, -0.19173919, -0.01164089,  0.11003646],\n",
       "       [-0.0947448 ,  0.13625884,  0.1779078 , -0.16914544,  0.07165423,\n",
       "         0.09110433, -0.15841779,  0.23005962, -0.05516858, -0.0516167 ],\n",
       "       [ 0.21234402, -0.03069475,  0.13231122, -0.06958413,  0.09783843,\n",
       "        -0.06791627,  0.10138023,  0.11722547, -0.12821266, -0.00763558],\n",
       "       [ 0.1856812 ,  0.1942311 ,  0.02568343, -0.1685642 , -0.06151083,\n",
       "         0.2292153 , -0.20238364, -0.10318907,  0.19498771, -0.01961024],\n",
       "       [-0.14101319, -0.10148591, -0.05399685,  0.23287627, -0.21213272,\n",
       "        -0.14760083,  0.06121108, -0.06797601,  0.09764871,  0.05185434],\n",
       "       [-0.20089987,  0.14117962, -0.2081857 ,  0.07538304, -0.17177387,\n",
       "         0.12760684,  0.00320153,  0.11321205, -0.18517098,  0.18685567],\n",
       "       [ 0.1448093 ,  0.21420205,  0.10337433,  0.22947395, -0.07441399,\n",
       "        -0.03806016,  0.0909062 , -0.140367  ,  0.20196113,  0.13667428],\n",
       "       [-0.14482054, -0.19295713, -0.07782097, -0.19149926,  0.14259925,\n",
       "         0.16560915,  0.20547184,  0.06144735,  0.04719996,  0.1228056 ],\n",
       "       [ 0.03984311,  0.22679576, -0.1164746 , -0.0631426 ,  0.09666291,\n",
       "        -0.1907649 , -0.15825531,  0.18806654,  0.20772031,  0.01114437],\n",
       "       [ 0.04569203,  0.07668209,  0.0759384 , -0.05030872,  0.13927183,\n",
       "         0.10773355,  0.20884755,  0.14105701,  0.22029373, -0.18952698],\n",
       "       [-0.17356528, -0.100256  ,  0.226457  , -0.06651434, -0.00707726,\n",
       "        -0.08418243, -0.00330926,  0.0052928 ,  0.03207207,  0.21935916],\n",
       "       [ 0.01468071,  0.168623  , -0.12689482, -0.01631901, -0.21432589,\n",
       "         0.1146892 ,  0.04334745,  0.08125731, -0.19575001,  0.0285171 ],\n",
       "       [ 0.05149353,  0.17592585, -0.18655097, -0.08522643, -0.0690954 ,\n",
       "        -0.04805657, -0.02870464, -0.01498631, -0.15080285, -0.08386226],\n",
       "       [ 0.06906867,  0.10428402, -0.12891242, -0.0063476 ,  0.1909633 ,\n",
       "         0.2306818 ,  0.10412249,  0.09133863,  0.19785246,  0.05104762],\n",
       "       [-0.00316945, -0.09871008,  0.06045264,  0.06456524, -0.03294845,\n",
       "        -0.07259545,  0.19617894,  0.12188116,  0.09840381, -0.01562682],\n",
       "       [ 0.02910218,  0.14305618,  0.07990658, -0.1565645 , -0.13092819,\n",
       "        -0.08532883,  0.18049982,  0.03910777, -0.06697257, -0.05407168],\n",
       "       [ 0.12531042, -0.01203017, -0.1744121 ,  0.10103938,  0.02096894,\n",
       "        -0.09169379,  0.02420288,  0.08498281, -0.09720147,  0.19150099],\n",
       "       [ 0.10903952,  0.00533283, -0.18580054,  0.12976024, -0.01562881,\n",
       "        -0.07137889,  0.15348023,  0.00997576,  0.22385591, -0.17635342],\n",
       "       [-0.14825137, -0.23353676, -0.11579394, -0.03495853, -0.22048049,\n",
       "         0.0445213 ,  0.02694643, -0.03694361, -0.02287818, -0.18122865],\n",
       "       [ 0.09832397,  0.12469524, -0.09253271, -0.02677949,  0.15094236,\n",
       "         0.1884923 , -0.2263805 ,  0.01850623, -0.1209257 , -0.08894151],\n",
       "       [ 0.08593148,  0.07196981,  0.1707209 , -0.06421082,  0.01522411,\n",
       "        -0.11959038, -0.04966497, -0.1419887 , -0.07590422, -0.11589406],\n",
       "       [ 0.03818911, -0.1008141 , -0.14925432, -0.20968308, -0.01553227,\n",
       "        -0.00413972, -0.07121702,  0.0188736 , -0.22561938, -0.19896473],\n",
       "       [-0.15567386,  0.04512805,  0.06774065,  0.14303559,  0.01233308,\n",
       "         0.04688808, -0.11729503, -0.16648981,  0.14894485,  0.09554458],\n",
       "       [-0.17317507, -0.2229515 , -0.05551921,  0.08935657, -0.2016641 ,\n",
       "        -0.07855554, -0.12259673,  0.22695786,  0.05206472, -0.2273713 ],\n",
       "       [-0.12167887, -0.06216693,  0.13237965,  0.14601627,  0.09801227,\n",
       "         0.01170014,  0.21087834,  0.11145052,  0.1398831 , -0.06081268],\n",
       "       [-0.20415908, -0.11366831, -0.03917827,  0.07830429, -0.22236238,\n",
       "         0.23318425, -0.0234123 ,  0.11383876, -0.09482494, -0.00799891],\n",
       "       [ 0.08114254, -0.06854036, -0.1499165 , -0.07781129,  0.03470328,\n",
       "        -0.03432992,  0.17566726, -0.1266418 ,  0.06229869, -0.20940326],\n",
       "       [-0.11080556,  0.11047262, -0.11028749, -0.013246  ,  0.2211214 ,\n",
       "         0.0902651 ,  0.09676045,  0.19038409, -0.09793235, -0.22683397],\n",
       "       [-0.00529903,  0.15628219, -0.2184057 , -0.14553368,  0.13315877,\n",
       "         0.03454319,  0.02113971,  0.08286843, -0.22358635, -0.05147371],\n",
       "       [-0.11509495, -0.03033514,  0.02139381,  0.11919975, -0.1184343 ,\n",
       "         0.13993016,  0.1376389 ,  0.06198353,  0.06456158, -0.0547538 ],\n",
       "       [ 0.23080727, -0.04536788,  0.01570238,  0.12626517, -0.05952613,\n",
       "         0.02332637,  0.10187462,  0.09432346, -0.10470809, -0.0974659 ],\n",
       "       [-0.08009127, -0.19975793, -0.02943109, -0.06057447, -0.1388079 ,\n",
       "        -0.0647976 , -0.18245201,  0.061396  , -0.08279711,  0.00028928],\n",
       "       [ 0.08031991, -0.20021169, -0.19667706, -0.09424533, -0.18138959,\n",
       "        -0.00452739, -0.09700875, -0.20999289,  0.0731599 ,  0.14553502],\n",
       "       [-0.05344954,  0.12495327,  0.1371795 ,  0.2018899 , -0.0356838 ,\n",
       "         0.20465377, -0.14264208, -0.04532813, -0.08226216, -0.01169463],\n",
       "       [-0.03821613, -0.08203219,  0.05713522, -0.17169903, -0.20996232,\n",
       "         0.13210842, -0.02662157, -0.19253723,  0.0629119 , -0.12716684],\n",
       "       [ 0.0481126 , -0.0964776 , -0.09776753,  0.11661708,  0.08148026,\n",
       "         0.07951424, -0.09619461, -0.02993473,  0.2161834 , -0.04313669],\n",
       "       [-0.03130464,  0.20750916, -0.19587424,  0.055161  ,  0.18017977,\n",
       "         0.14586508,  0.21011543,  0.02278247, -0.10188593, -0.09889327],\n",
       "       [ 0.09507772,  0.0778442 ,  0.06177035,  0.10487497, -0.06962863,\n",
       "         0.15196624, -0.1141214 ,  0.10569906,  0.2098611 , -0.04228663],\n",
       "       [-0.17157932,  0.12984839,  0.04812485,  0.13560712, -0.05064587,\n",
       "        -0.1948661 , -0.04382709,  0.21854958,  0.19297686, -0.08140582],\n",
       "       [ 0.15552247, -0.16241   , -0.08987798,  0.10077789, -0.00219288,\n",
       "         0.02993289, -0.22481392,  0.18089396, -0.16983962, -0.11975402],\n",
       "       [ 0.13126957, -0.22396877,  0.19513845,  0.08048227,  0.18204269,\n",
       "        -0.0501048 ,  0.0280917 ,  0.20407516, -0.22724023,  0.20560867],\n",
       "       [ 0.15202937, -0.03782991, -0.22316611,  0.20779237,  0.00909157,\n",
       "         0.12573212, -0.09801443, -0.1105365 ,  0.02010381,  0.09121159],\n",
       "       [-0.03855446,  0.10812038,  0.12169212, -0.10331987, -0.16762607,\n",
       "        -0.19838363,  0.2298905 ,  0.06523103,  0.12876469, -0.07010137],\n",
       "       [ 0.1479204 , -0.14750901,  0.10168508,  0.08265778,  0.01933384,\n",
       "         0.00507469,  0.0393554 ,  0.13113588, -0.12347268, -0.06653027],\n",
       "       [-0.22548868,  0.15721586,  0.1153473 ,  0.21927005, -0.17117661,\n",
       "         0.08259597, -0.14884344,  0.08475748,  0.03426528, -0.20969594],\n",
       "       [-0.01438232, -0.00513014,  0.11062354,  0.00342993, -0.07423507,\n",
       "         0.21218076, -0.14795485,  0.10385019,  0.0513424 , -0.0353566 ],\n",
       "       [-0.14442998,  0.18762815, -0.20455965,  0.0427458 , -0.00968298,\n",
       "        -0.21937351,  0.14352831, -0.07560593,  0.10463893, -0.06499822],\n",
       "       [-0.17329684,  0.11319011, -0.12016201,  0.02657869,  0.05438745,\n",
       "         0.02149186, -0.20772226,  0.17362776,  0.1300945 , -0.0565587 ],\n",
       "       [ 0.01292704, -0.10444778,  0.03598258,  0.18472615,  0.02701235,\n",
       "        -0.05981006,  0.18957981, -0.22947216,  0.22796032,  0.18696803],\n",
       "       [ 0.07811421,  0.04083711,  0.14415854, -0.07005382, -0.12810251,\n",
       "         0.15620041, -0.07650693,  0.21455508,  0.21663082,  0.11474416],\n",
       "       [-0.02691473,  0.08338934, -0.20292392, -0.08672768,  0.23137894,\n",
       "        -0.1482257 ,  0.20304525,  0.00463574,  0.12304938,  0.02554956],\n",
       "       [ 0.17423391,  0.06818727,  0.13019681, -0.09518854,  0.19364008,\n",
       "        -0.06896544, -0.11429608, -0.22918473,  0.22064877, -0.13308327],\n",
       "       [ 0.147143  ,  0.13700399,  0.05422956,  0.05449542,  0.06717825,\n",
       "         0.02782151, -0.1716899 ,  0.08617231, -0.10982671, -0.16307212],\n",
       "       [ 0.05522102,  0.06272408, -0.22999735, -0.10282046,  0.03233716,\n",
       "        -0.07019758, -0.1236287 , -0.15533954,  0.02454048, -0.15132916],\n",
       "       [-0.1565082 ,  0.03351697, -0.06345454,  0.00052381,  0.1935198 ,\n",
       "        -0.13937339, -0.16965024,  0.06278491,  0.02088198,  0.18275067],\n",
       "       [-0.14328493,  0.20518246, -0.23327178, -0.20559797, -0.12604438,\n",
       "         0.13365346,  0.16280311, -0.22768904,  0.08281282,  0.03506434],\n",
       "       [ 0.08841258, -0.14323893,  0.02820441, -0.20641416,  0.22865406,\n",
       "        -0.09543622,  0.10851249,  0.12668929,  0.16010654, -0.1709441 ],\n",
       "       [-0.17378162,  0.20867506,  0.2275598 ,  0.02292591,  0.22710878,\n",
       "         0.20535776,  0.17737615,  0.15328684, -0.04123636,  0.2140969 ],\n",
       "       [ 0.00645824,  0.07562396,  0.1710633 ,  0.08848163, -0.1213921 ,\n",
       "        -0.2198859 ,  0.05165729, -0.1710133 , -0.14666063,  0.14953196],\n",
       "       [-0.13201956, -0.1652982 , -0.03656225,  0.22037798,  0.19190857,\n",
       "         0.23324364,  0.20070738, -0.15580043,  0.17830032,  0.04864749],\n",
       "       [ 0.02228662,  0.15439472, -0.12022454,  0.01114643, -0.22893365,\n",
       "        -0.11019578,  0.07011595,  0.11678565, -0.11150526,  0.2277357 ],\n",
       "       [-0.1861005 ,  0.22666037,  0.15886524, -0.19825462, -0.13756059,\n",
       "        -0.04089424,  0.13042003,  0.16908178, -0.02718295,  0.0003601 ],\n",
       "       [ 0.05158591, -0.15635213, -0.06037791,  0.14342803, -0.02107669,\n",
       "         0.22250047, -0.07669073, -0.11638428, -0.21221545,  0.00658074],\n",
       "       [-0.08627494,  0.20914719,  0.09272331, -0.03289989,  0.0660474 ,\n",
       "        -0.20805898,  0.21273881,  0.1077472 , -0.04025628,  0.07701287],\n",
       "       [-0.05132614,  0.07797411, -0.1143894 , -0.06028837,  0.18667498,\n",
       "         0.1906878 , -0.03727414, -0.02523702,  0.15861952,  0.20987254],\n",
       "       [-0.0173116 , -0.05218048,  0.22690207,  0.0365862 ,  0.1721397 ,\n",
       "         0.07307386,  0.16861331,  0.04788172, -0.22477344, -0.10013081],\n",
       "       [ 0.11908355, -0.18794687, -0.2192141 , -0.15540558, -0.08540316,\n",
       "         0.04980451,  0.04738593,  0.08713835,  0.05613533, -0.2287366 ],\n",
       "       [-0.06263623,  0.11052877,  0.06556657,  0.21694201,  0.04678378,\n",
       "        -0.00795938, -0.08844154,  0.04766157, -0.1843093 , -0.04426365],\n",
       "       [-0.09326026, -0.07536092, -0.02533959, -0.18594424,  0.04458526,\n",
       "        -0.03803037, -0.10740028, -0.03683682, -0.06238782, -0.23113361],\n",
       "       [-0.00202957,  0.19162253,  0.00421166,  0.1832462 , -0.15141208,\n",
       "        -0.14890887, -0.22664984, -0.22848184,  0.06066579,  0.2255888 ],\n",
       "       [ 0.05409163,  0.18202102, -0.05394551, -0.10592581,  0.10885361,\n",
       "        -0.04286133,  0.13593516,  0.22860837,  0.1821011 ,  0.03696242],\n",
       "       [-0.05962613, -0.0510131 ,  0.1411975 ,  0.09685913,  0.15028885,\n",
       "         0.11127585,  0.16757584, -0.11774968, -0.1704871 , -0.04206212],\n",
       "       [-0.1740955 , -0.00198542, -0.14518782,  0.08263919, -0.01747642,\n",
       "         0.11349726, -0.2285922 ,  0.0270693 ,  0.03212383,  0.21972781],\n",
       "       [ 0.233154  ,  0.00985676, -0.15687867,  0.03640231, -0.05498376,\n",
       "         0.15673372,  0.16390097,  0.05826613, -0.18231508, -0.1259638 ],\n",
       "       [ 0.09119916,  0.1989733 , -0.14452264, -0.08808701,  0.01494248,\n",
       "        -0.16274309,  0.17559949,  0.00793454, -0.02480821,  0.09364736],\n",
       "       [ 0.07321927,  0.00475268,  0.15864307, -0.12342691, -0.2164617 ,\n",
       "        -0.19367298, -0.06014448, -0.18813865,  0.21187529, -0.16298065],\n",
       "       [-0.18810228,  0.08532664,  0.00900777,  0.1038664 , -0.08081965,\n",
       "        -0.19272594, -0.07075636, -0.03899279,  0.07259986,  0.12378883],\n",
       "       [-0.12339322,  0.09911868,  0.14053583,  0.0201498 , -0.19839343,\n",
       "        -0.06186308,  0.05975884,  0.22066128, -0.12984005, -0.00666308],\n",
       "       [ 0.02086654,  0.1946353 ,  0.07097781, -0.18786775,  0.05028138,\n",
       "        -0.1913816 , -0.19105335,  0.156028  ,  0.11290339,  0.21468347],\n",
       "       [-0.00347042,  0.0582276 ,  0.0488264 ,  0.0166747 , -0.03279053,\n",
       "        -0.10502186, -0.05115665,  0.02649298, -0.1391936 , -0.13365865],\n",
       "       [-0.0929402 , -0.02830853, -0.02947742,  0.02888149,  0.18819568,\n",
       "        -0.09177898, -0.22539602,  0.14377487, -0.19284678, -0.01035969],\n",
       "       [-0.20891126, -0.17932092,  0.12673897,  0.02099985, -0.15392303,\n",
       "        -0.14185935, -0.11003296, -0.01336092,  0.12045887,  0.23124442],\n",
       "       [ 0.17575678,  0.02244124, -0.10506319, -0.16574338, -0.22677472,\n",
       "        -0.15667519, -0.16613984, -0.21549995,  0.14570117,  0.19144392],\n",
       "       [ 0.1881035 ,  0.18242595, -0.05337499, -0.14139462, -0.06234562,\n",
       "        -0.16059837, -0.22370662,  0.13606915,  0.14819112,  0.00162999],\n",
       "       [-0.08515516,  0.12184781,  0.11196387,  0.17838663, -0.08992347,\n",
       "        -0.02654991, -0.16498399,  0.18549427, -0.19597758, -0.14932677],\n",
       "       [-0.19458257, -0.20829496, -0.1882147 ,  0.17617467,  0.20382887,\n",
       "         0.13043362, -0.19401772, -0.15644589, -0.02348112, -0.02859189],\n",
       "       [ 0.19032899,  0.1803996 ,  0.09257501,  0.17543933, -0.2271326 ,\n",
       "         0.08877012,  0.00984246, -0.21649963,  0.17458344,  0.11487791],\n",
       "       [-0.00491177, -0.13574585,  0.07810029, -0.16456693,  0.15639496,\n",
       "        -0.03870602,  0.16928035,  0.19254965,  0.00062804, -0.09785402],\n",
       "       [-0.06424028,  0.19620728,  0.06121877, -0.05485414,  0.05205631,\n",
       "         0.04691097,  0.2004641 , -0.06572655, -0.15176784, -0.10020125]],\n",
       "      dtype=float32)>"
      ]
     },
     "execution_count": 124,
     "metadata": {},
     "output_type": "execute_result"
    }
   ],
   "source": [
    "weights3"
   ]
  },
  {
   "cell_type": "code",
   "execution_count": 125,
   "metadata": {},
   "outputs": [
    {
     "data": {
      "text/plain": [
       "<tf.Variable 'dense_5/bias:0' shape=(10,) dtype=float32, numpy=array([0., 0., 0., 0., 0., 0., 0., 0., 0., 0.], dtype=float32)>"
      ]
     },
     "execution_count": 125,
     "metadata": {},
     "output_type": "execute_result"
    }
   ],
   "source": [
    "biases3"
   ]
  },
  {
   "cell_type": "code",
   "execution_count": 126,
   "metadata": {},
   "outputs": [
    {
     "data": {
      "text/plain": [
       "TensorShape([784, 300])"
      ]
     },
     "execution_count": 126,
     "metadata": {},
     "output_type": "execute_result"
    }
   ],
   "source": [
    "weights.shape"
   ]
  },
  {
   "cell_type": "code",
   "execution_count": 127,
   "metadata": {},
   "outputs": [
    {
     "data": {
      "text/plain": [
       "TensorShape([300, 100])"
      ]
     },
     "execution_count": 127,
     "metadata": {},
     "output_type": "execute_result"
    }
   ],
   "source": [
    "weights2.shape"
   ]
  },
  {
   "cell_type": "code",
   "execution_count": 128,
   "metadata": {},
   "outputs": [
    {
     "data": {
      "text/plain": [
       "TensorShape([100, 10])"
      ]
     },
     "execution_count": 128,
     "metadata": {},
     "output_type": "execute_result"
    }
   ],
   "source": [
    "weights3.shape"
   ]
  },
  {
   "cell_type": "code",
   "execution_count": 129,
   "metadata": {},
   "outputs": [],
   "source": [
    "input = model.layers[0]"
   ]
  },
  {
   "cell_type": "code",
   "execution_count": 130,
   "metadata": {},
   "outputs": [],
   "source": [
    "#input.name\n",
    "#weights0, biases0 = input.weights "
   ]
  },
  {
   "cell_type": "code",
   "execution_count": 131,
   "metadata": {},
   "outputs": [],
   "source": [
    "model.compile(optimizer=\"sgd\", loss=tf.keras.losses.sparse_categorical_crossentropy, metrics=[\"accuracy\"])"
   ]
  },
  {
   "cell_type": "code",
   "execution_count": 133,
   "metadata": {},
   "outputs": [
    {
     "name": "stdout",
     "output_type": "stream",
     "text": [
      "Epoch 1/100\n",
      "1719/1719 [==============================] - 4s 2ms/step - loss: 0.2239 - accuracy: 0.9189 - val_loss: 0.3080 - val_accuracy: 0.8908\n",
      "Epoch 2/100\n",
      "1719/1719 [==============================] - 4s 2ms/step - loss: 0.2204 - accuracy: 0.9207 - val_loss: 0.2937 - val_accuracy: 0.8962\n",
      "Epoch 3/100\n",
      "1719/1719 [==============================] - 4s 2ms/step - loss: 0.2169 - accuracy: 0.9218 - val_loss: 0.3502 - val_accuracy: 0.8676\n",
      "Epoch 4/100\n",
      "1719/1719 [==============================] - 4s 2ms/step - loss: 0.2136 - accuracy: 0.9234 - val_loss: 0.2967 - val_accuracy: 0.8942\n",
      "Epoch 5/100\n",
      "1719/1719 [==============================] - 4s 2ms/step - loss: 0.2097 - accuracy: 0.9246 - val_loss: 0.3486 - val_accuracy: 0.8716\n",
      "Epoch 6/100\n",
      "1719/1719 [==============================] - 4s 2ms/step - loss: 0.2069 - accuracy: 0.9251 - val_loss: 0.2900 - val_accuracy: 0.8968\n",
      "Epoch 7/100\n",
      "1719/1719 [==============================] - 4s 2ms/step - loss: 0.2034 - accuracy: 0.9277 - val_loss: 0.2881 - val_accuracy: 0.8970\n",
      "Epoch 8/100\n",
      "1719/1719 [==============================] - 4s 2ms/step - loss: 0.2003 - accuracy: 0.9283 - val_loss: 0.2860 - val_accuracy: 0.8956\n",
      "Epoch 9/100\n",
      "1719/1719 [==============================] - 4s 2ms/step - loss: 0.1980 - accuracy: 0.9292 - val_loss: 0.2895 - val_accuracy: 0.8966\n",
      "Epoch 10/100\n",
      "1719/1719 [==============================] - 4s 2ms/step - loss: 0.1951 - accuracy: 0.9297 - val_loss: 0.2985 - val_accuracy: 0.8928\n",
      "Epoch 11/100\n",
      "1719/1719 [==============================] - 4s 2ms/step - loss: 0.1901 - accuracy: 0.9321 - val_loss: 0.2888 - val_accuracy: 0.9008\n",
      "Epoch 12/100\n",
      "1719/1719 [==============================] - 4s 2ms/step - loss: 0.1878 - accuracy: 0.9329 - val_loss: 0.2993 - val_accuracy: 0.8948\n",
      "Epoch 13/100\n",
      "1719/1719 [==============================] - 4s 2ms/step - loss: 0.1859 - accuracy: 0.9335 - val_loss: 0.3033 - val_accuracy: 0.8892\n",
      "Epoch 14/100\n",
      "1719/1719 [==============================] - 4s 3ms/step - loss: 0.1822 - accuracy: 0.9346 - val_loss: 0.2890 - val_accuracy: 0.9016\n",
      "Epoch 15/100\n",
      "1719/1719 [==============================] - 4s 3ms/step - loss: 0.1803 - accuracy: 0.9360 - val_loss: 0.2837 - val_accuracy: 0.8982\n",
      "Epoch 16/100\n",
      "1719/1719 [==============================] - 4s 3ms/step - loss: 0.1766 - accuracy: 0.9374 - val_loss: 0.2923 - val_accuracy: 0.8972\n",
      "Epoch 17/100\n",
      "1719/1719 [==============================] - 4s 3ms/step - loss: 0.1731 - accuracy: 0.9380 - val_loss: 0.3049 - val_accuracy: 0.8970\n",
      "Epoch 18/100\n",
      "1719/1719 [==============================] - 4s 3ms/step - loss: 0.1716 - accuracy: 0.9389 - val_loss: 0.3104 - val_accuracy: 0.8860\n",
      "Epoch 19/100\n",
      "1719/1719 [==============================] - 4s 3ms/step - loss: 0.1685 - accuracy: 0.9402 - val_loss: 0.2903 - val_accuracy: 0.8988\n",
      "Epoch 20/100\n",
      "1719/1719 [==============================] - 4s 3ms/step - loss: 0.1659 - accuracy: 0.9411 - val_loss: 0.3182 - val_accuracy: 0.8866\n",
      "Epoch 21/100\n",
      "1719/1719 [==============================] - 4s 3ms/step - loss: 0.1631 - accuracy: 0.9431 - val_loss: 0.2892 - val_accuracy: 0.9004\n",
      "Epoch 22/100\n",
      "1719/1719 [==============================] - 4s 3ms/step - loss: 0.1602 - accuracy: 0.9440 - val_loss: 0.3148 - val_accuracy: 0.8888\n",
      "Epoch 23/100\n",
      "1719/1719 [==============================] - 4s 3ms/step - loss: 0.1576 - accuracy: 0.9447 - val_loss: 0.3139 - val_accuracy: 0.8922\n",
      "Epoch 24/100\n",
      "1719/1719 [==============================] - 4s 3ms/step - loss: 0.1552 - accuracy: 0.9442 - val_loss: 0.2920 - val_accuracy: 0.9006\n",
      "Epoch 25/100\n",
      "1719/1719 [==============================] - 4s 3ms/step - loss: 0.1534 - accuracy: 0.9450 - val_loss: 0.2868 - val_accuracy: 0.9026\n",
      "Epoch 26/100\n",
      "1719/1719 [==============================] - 4s 3ms/step - loss: 0.1504 - accuracy: 0.9467 - val_loss: 0.2975 - val_accuracy: 0.9028\n",
      "Epoch 27/100\n",
      "1719/1719 [==============================] - 4s 3ms/step - loss: 0.1491 - accuracy: 0.9465 - val_loss: 0.2948 - val_accuracy: 0.8994\n",
      "Epoch 28/100\n",
      "1719/1719 [==============================] - 4s 3ms/step - loss: 0.1452 - accuracy: 0.9486 - val_loss: 0.2861 - val_accuracy: 0.9008\n",
      "Epoch 29/100\n",
      "1719/1719 [==============================] - 4s 3ms/step - loss: 0.1434 - accuracy: 0.9505 - val_loss: 0.3001 - val_accuracy: 0.8984\n",
      "Epoch 30/100\n",
      "1719/1719 [==============================] - 4s 3ms/step - loss: 0.1399 - accuracy: 0.9509 - val_loss: 0.2931 - val_accuracy: 0.8976\n",
      "Epoch 31/100\n",
      "1719/1719 [==============================] - 4s 3ms/step - loss: 0.1390 - accuracy: 0.9504 - val_loss: 0.3038 - val_accuracy: 0.8982\n",
      "Epoch 32/100\n",
      "1719/1719 [==============================] - 4s 3ms/step - loss: 0.1376 - accuracy: 0.9517 - val_loss: 0.3031 - val_accuracy: 0.9004\n",
      "Epoch 33/100\n",
      "1719/1719 [==============================] - 4s 3ms/step - loss: 0.1343 - accuracy: 0.9519 - val_loss: 0.2968 - val_accuracy: 0.8980\n",
      "Epoch 34/100\n",
      "1719/1719 [==============================] - 4s 3ms/step - loss: 0.1322 - accuracy: 0.9536 - val_loss: 0.3201 - val_accuracy: 0.8952\n",
      "Epoch 35/100\n",
      "1719/1719 [==============================] - 5s 3ms/step - loss: 0.1304 - accuracy: 0.9544 - val_loss: 0.3143 - val_accuracy: 0.8994\n",
      "Epoch 36/100\n",
      "1719/1719 [==============================] - 5s 3ms/step - loss: 0.1272 - accuracy: 0.9555 - val_loss: 0.3058 - val_accuracy: 0.8978\n",
      "Epoch 37/100\n",
      "1719/1719 [==============================] - 4s 3ms/step - loss: 0.1269 - accuracy: 0.9553 - val_loss: 0.3323 - val_accuracy: 0.8910\n",
      "Epoch 38/100\n",
      "1719/1719 [==============================] - 5s 3ms/step - loss: 0.1244 - accuracy: 0.9571 - val_loss: 0.3024 - val_accuracy: 0.9000\n",
      "Epoch 39/100\n",
      "1719/1719 [==============================] - 5s 3ms/step - loss: 0.1219 - accuracy: 0.9577 - val_loss: 0.2965 - val_accuracy: 0.9004\n",
      "Epoch 40/100\n",
      "1719/1719 [==============================] - 5s 3ms/step - loss: 0.1197 - accuracy: 0.9584 - val_loss: 0.2949 - val_accuracy: 0.9022\n",
      "Epoch 41/100\n",
      "1719/1719 [==============================] - 5s 3ms/step - loss: 0.1173 - accuracy: 0.9585 - val_loss: 0.3121 - val_accuracy: 0.8956\n",
      "Epoch 42/100\n",
      "1719/1719 [==============================] - 5s 3ms/step - loss: 0.1160 - accuracy: 0.9591 - val_loss: 0.3127 - val_accuracy: 0.9020\n",
      "Epoch 43/100\n",
      "1719/1719 [==============================] - 5s 3ms/step - loss: 0.1158 - accuracy: 0.9585 - val_loss: 0.3137 - val_accuracy: 0.8982\n",
      "Epoch 44/100\n",
      "1719/1719 [==============================] - 5s 3ms/step - loss: 0.1119 - accuracy: 0.9616 - val_loss: 0.3343 - val_accuracy: 0.8942\n",
      "Epoch 45/100\n",
      "1719/1719 [==============================] - 5s 3ms/step - loss: 0.1093 - accuracy: 0.9624 - val_loss: 0.3056 - val_accuracy: 0.9028\n",
      "Epoch 46/100\n",
      "1719/1719 [==============================] - 5s 3ms/step - loss: 0.1085 - accuracy: 0.9626 - val_loss: 0.3285 - val_accuracy: 0.8964\n",
      "Epoch 47/100\n",
      "1719/1719 [==============================] - 5s 3ms/step - loss: 0.1071 - accuracy: 0.9629 - val_loss: 0.3068 - val_accuracy: 0.9008\n",
      "Epoch 48/100\n",
      "1719/1719 [==============================] - 5s 3ms/step - loss: 0.1043 - accuracy: 0.9636 - val_loss: 0.3174 - val_accuracy: 0.9018\n",
      "Epoch 49/100\n",
      "1719/1719 [==============================] - 5s 3ms/step - loss: 0.1042 - accuracy: 0.9638 - val_loss: 0.3179 - val_accuracy: 0.8954\n",
      "Epoch 50/100\n",
      "1719/1719 [==============================] - 5s 3ms/step - loss: 0.1022 - accuracy: 0.9649 - val_loss: 0.3236 - val_accuracy: 0.8978\n",
      "Epoch 51/100\n",
      "1719/1719 [==============================] - 5s 3ms/step - loss: 0.0998 - accuracy: 0.9647 - val_loss: 0.3497 - val_accuracy: 0.8936\n",
      "Epoch 52/100\n",
      "1719/1719 [==============================] - 5s 3ms/step - loss: 0.0983 - accuracy: 0.9664 - val_loss: 0.3280 - val_accuracy: 0.8958\n",
      "Epoch 53/100\n",
      "1719/1719 [==============================] - 5s 3ms/step - loss: 0.0965 - accuracy: 0.9666 - val_loss: 0.3603 - val_accuracy: 0.8952\n",
      "Epoch 54/100\n",
      "1719/1719 [==============================] - 5s 3ms/step - loss: 0.0956 - accuracy: 0.9671 - val_loss: 0.3157 - val_accuracy: 0.9008\n",
      "Epoch 55/100\n",
      "1719/1719 [==============================] - 5s 3ms/step - loss: 0.0931 - accuracy: 0.9682 - val_loss: 0.3425 - val_accuracy: 0.8946\n",
      "Epoch 56/100\n",
      "1719/1719 [==============================] - 5s 3ms/step - loss: 0.0917 - accuracy: 0.9686 - val_loss: 0.3214 - val_accuracy: 0.8998\n",
      "Epoch 57/100\n",
      "1719/1719 [==============================] - 5s 3ms/step - loss: 0.0897 - accuracy: 0.9693 - val_loss: 0.3285 - val_accuracy: 0.9000\n",
      "Epoch 58/100\n",
      "1719/1719 [==============================] - 5s 3ms/step - loss: 0.0892 - accuracy: 0.9690 - val_loss: 0.3421 - val_accuracy: 0.9004\n",
      "Epoch 59/100\n",
      "1719/1719 [==============================] - 5s 3ms/step - loss: 0.0862 - accuracy: 0.9707 - val_loss: 0.3354 - val_accuracy: 0.8976\n",
      "Epoch 60/100\n",
      "1719/1719 [==============================] - 5s 3ms/step - loss: 0.0861 - accuracy: 0.9705 - val_loss: 0.3363 - val_accuracy: 0.8990\n",
      "Epoch 61/100\n",
      "1719/1719 [==============================] - 5s 3ms/step - loss: 0.0835 - accuracy: 0.9714 - val_loss: 0.4485 - val_accuracy: 0.8842\n",
      "Epoch 62/100\n",
      "1719/1719 [==============================] - 5s 3ms/step - loss: 0.0823 - accuracy: 0.9727 - val_loss: 0.3541 - val_accuracy: 0.8970\n",
      "Epoch 63/100\n",
      "1719/1719 [==============================] - 5s 3ms/step - loss: 0.0812 - accuracy: 0.9720 - val_loss: 0.3507 - val_accuracy: 0.8954\n",
      "Epoch 64/100\n",
      "1719/1719 [==============================] - 5s 3ms/step - loss: 0.0805 - accuracy: 0.9729 - val_loss: 0.3465 - val_accuracy: 0.8972\n",
      "Epoch 65/100\n",
      "1719/1719 [==============================] - 5s 3ms/step - loss: 0.0784 - accuracy: 0.9729 - val_loss: 0.3398 - val_accuracy: 0.9000\n",
      "Epoch 66/100\n",
      "1719/1719 [==============================] - 5s 3ms/step - loss: 0.0775 - accuracy: 0.9733 - val_loss: 0.3523 - val_accuracy: 0.8996\n",
      "Epoch 67/100\n",
      "1719/1719 [==============================] - 5s 3ms/step - loss: 0.0761 - accuracy: 0.9740 - val_loss: 0.3449 - val_accuracy: 0.9012\n",
      "Epoch 68/100\n",
      "1719/1719 [==============================] - 5s 3ms/step - loss: 0.0743 - accuracy: 0.9750 - val_loss: 0.3708 - val_accuracy: 0.8928\n",
      "Epoch 69/100\n",
      "1719/1719 [==============================] - 5s 3ms/step - loss: 0.0735 - accuracy: 0.9754 - val_loss: 0.3548 - val_accuracy: 0.9006\n",
      "Epoch 70/100\n",
      "1719/1719 [==============================] - 5s 3ms/step - loss: 0.0716 - accuracy: 0.9754 - val_loss: 0.3430 - val_accuracy: 0.9040\n",
      "Epoch 71/100\n",
      "1719/1719 [==============================] - 5s 3ms/step - loss: 0.0711 - accuracy: 0.9768 - val_loss: 0.3616 - val_accuracy: 0.8990\n",
      "Epoch 72/100\n",
      "1719/1719 [==============================] - 5s 3ms/step - loss: 0.0691 - accuracy: 0.9765 - val_loss: 0.3553 - val_accuracy: 0.9006\n",
      "Epoch 73/100\n",
      "1719/1719 [==============================] - 5s 3ms/step - loss: 0.0688 - accuracy: 0.9767 - val_loss: 0.3949 - val_accuracy: 0.8864\n",
      "Epoch 74/100\n",
      "1719/1719 [==============================] - 5s 3ms/step - loss: 0.0679 - accuracy: 0.9768 - val_loss: 0.3720 - val_accuracy: 0.9022\n",
      "Epoch 75/100\n",
      "1719/1719 [==============================] - 5s 3ms/step - loss: 0.0665 - accuracy: 0.9779 - val_loss: 0.3556 - val_accuracy: 0.9038\n",
      "Epoch 76/100\n",
      "1719/1719 [==============================] - 5s 3ms/step - loss: 0.0650 - accuracy: 0.9777 - val_loss: 0.3581 - val_accuracy: 0.9008\n",
      "Epoch 77/100\n",
      "1719/1719 [==============================] - 5s 3ms/step - loss: 0.0642 - accuracy: 0.9784 - val_loss: 0.3762 - val_accuracy: 0.9010\n",
      "Epoch 78/100\n",
      "1719/1719 [==============================] - 5s 3ms/step - loss: 0.0618 - accuracy: 0.9801 - val_loss: 0.3927 - val_accuracy: 0.8944\n",
      "Epoch 79/100\n",
      "1719/1719 [==============================] - 5s 3ms/step - loss: 0.0613 - accuracy: 0.9794 - val_loss: 0.3657 - val_accuracy: 0.8990\n",
      "Epoch 80/100\n",
      "1719/1719 [==============================] - 5s 3ms/step - loss: 0.0596 - accuracy: 0.9802 - val_loss: 0.3767 - val_accuracy: 0.9016\n",
      "Epoch 81/100\n",
      "1719/1719 [==============================] - 5s 3ms/step - loss: 0.0577 - accuracy: 0.9813 - val_loss: 0.3919 - val_accuracy: 0.8950\n",
      "Epoch 82/100\n",
      "1719/1719 [==============================] - 5s 3ms/step - loss: 0.0582 - accuracy: 0.9808 - val_loss: 0.3730 - val_accuracy: 0.9002\n",
      "Epoch 83/100\n",
      "1719/1719 [==============================] - 5s 3ms/step - loss: 0.0574 - accuracy: 0.9806 - val_loss: 0.3745 - val_accuracy: 0.9004\n",
      "Epoch 84/100\n",
      "1719/1719 [==============================] - 5s 3ms/step - loss: 0.0560 - accuracy: 0.9816 - val_loss: 0.3851 - val_accuracy: 0.9002\n",
      "Epoch 85/100\n",
      "1719/1719 [==============================] - 5s 3ms/step - loss: 0.0540 - accuracy: 0.9828 - val_loss: 0.3739 - val_accuracy: 0.9022\n",
      "Epoch 86/100\n",
      "1719/1719 [==============================] - 5s 3ms/step - loss: 0.0523 - accuracy: 0.9831 - val_loss: 0.3930 - val_accuracy: 0.8952\n",
      "Epoch 87/100\n",
      "1719/1719 [==============================] - 5s 3ms/step - loss: 0.0537 - accuracy: 0.9826 - val_loss: 0.4006 - val_accuracy: 0.8988\n",
      "Epoch 88/100\n",
      "1719/1719 [==============================] - 5s 3ms/step - loss: 0.0527 - accuracy: 0.9834 - val_loss: 0.3860 - val_accuracy: 0.9020\n",
      "Epoch 89/100\n",
      "1719/1719 [==============================] - 5s 3ms/step - loss: 0.0510 - accuracy: 0.9832 - val_loss: 0.3876 - val_accuracy: 0.9004\n",
      "Epoch 90/100\n",
      "1719/1719 [==============================] - 5s 3ms/step - loss: 0.0486 - accuracy: 0.9843 - val_loss: 0.3898 - val_accuracy: 0.9002\n",
      "Epoch 91/100\n",
      "1719/1719 [==============================] - 5s 3ms/step - loss: 0.0496 - accuracy: 0.9843 - val_loss: 0.3973 - val_accuracy: 0.8982\n",
      "Epoch 92/100\n",
      "1719/1719 [==============================] - 5s 3ms/step - loss: 0.0479 - accuracy: 0.9847 - val_loss: 0.4029 - val_accuracy: 0.8998\n",
      "Epoch 93/100\n",
      "1719/1719 [==============================] - 5s 3ms/step - loss: 0.0457 - accuracy: 0.9855 - val_loss: 0.4237 - val_accuracy: 0.8984\n",
      "Epoch 94/100\n",
      "1719/1719 [==============================] - 5s 3ms/step - loss: 0.0458 - accuracy: 0.9851 - val_loss: 0.4036 - val_accuracy: 0.8986\n",
      "Epoch 95/100\n",
      "1719/1719 [==============================] - 5s 3ms/step - loss: 0.0454 - accuracy: 0.9860 - val_loss: 0.3830 - val_accuracy: 0.9022\n",
      "Epoch 96/100\n",
      "1719/1719 [==============================] - 5s 3ms/step - loss: 0.0447 - accuracy: 0.9859 - val_loss: 0.4065 - val_accuracy: 0.9018\n",
      "Epoch 97/100\n",
      "1719/1719 [==============================] - 5s 3ms/step - loss: 0.0444 - accuracy: 0.9855 - val_loss: 0.4060 - val_accuracy: 0.9030\n",
      "Epoch 98/100\n",
      "1719/1719 [==============================] - 5s 3ms/step - loss: 0.0415 - accuracy: 0.9871 - val_loss: 0.4000 - val_accuracy: 0.9002\n",
      "Epoch 99/100\n",
      "1719/1719 [==============================] - 5s 3ms/step - loss: 0.0429 - accuracy: 0.9863 - val_loss: 0.4169 - val_accuracy: 0.9024\n",
      "Epoch 100/100\n",
      "1719/1719 [==============================] - 5s 3ms/step - loss: 0.0412 - accuracy: 0.9872 - val_loss: 0.4343 - val_accuracy: 0.8964\n"
     ]
    }
   ],
   "source": [
    "history = model.fit(X_train, y_train, epochs=100, validation_data=(X_valid, y_valid))"
   ]
  },
  {
   "cell_type": "code",
   "execution_count": 135,
   "metadata": {},
   "outputs": [
    {
     "data": {
      "image/png": "[encoded data removed]",
      "text/plain": [
       "<Figure size 432x288 with 1 Axes>"
      ]
     },
     "metadata": {
      "needs_background": "light"
     },
     "output_type": "display_data"
    }
   ],
   "source": [
    "plt.plot(history.history['loss'], label='loss')\n",
    "plt.plot(history.history['accuracy'], label='accuracy')\n",
    "plt.legend()\n",
    "plt.show()"
   ]
  },
  {
   "cell_type": "code",
   "execution_count": null,
   "metadata": {},
   "outputs": [],
   "source": []
  }
 ],
 "metadata": {
  "kernelspec": {
   "display_name": "Python 3",
   "language": "python",
   "name": "python3"
  },
  "language_info": {
   "codemirror_mode": {
    "name": "ipython",
    "version": 3
   },
   "file_extension": ".py",
   "mimetype": "text/x-python",
   "name": "python",
   "nbconvert_exporter": "python",
   "pygments_lexer": "ipython3",
   "version": "3.8.5"
  }
 },
 "nbformat": 4,
 "nbformat_minor": 4
}
